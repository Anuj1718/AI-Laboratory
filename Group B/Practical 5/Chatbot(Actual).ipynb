{
 "cells": [
  {
   "cell_type": "code",
   "execution_count": null,
   "id": "8b70f165-e599-4a2e-9e54-8dd77f0b7b1c",
   "metadata": {},
   "outputs": [],
   "source": [
    "!pip install gradio\n",
    "import nltk\n",
    "import gradio as gr\n",
    "from nltk.tokenize import word_tokenize\n",
    "import re"
   ]
  },
  {
   "cell_type": "code",
   "execution_count": null,
   "id": "8b1fd55d-f4a5-4c5e-8982-0a132483b30a",
   "metadata": {},
   "outputs": [],
   "source": [
    "# Download necessary NLTK data files\n",
    "nltk.download('punkt')\n",
    "nltk.download('punkt_tab')\n"
   ]
  },
  {
   "cell_type": "code",
   "execution_count": 3,
   "id": "03a69e08-8d13-4268-a809-d2276a43c17e",
   "metadata": {},
   "outputs": [],
   "source": [
    "# Function to generate chatbot responses\n",
    "def chatbot_response(user_input):\n",
    "    user_input = user_input.lower()\n",
    "    tokens = word_tokenize(user_input)\n",
    "    \n",
    "    # Define responses based on user input\n",
    "    if \"hi\" in tokens or \"hey\" in tokens:\n",
    "        return \"Hello! How can I assist you today?\"\n",
    "    elif \"appointment\" in tokens or \"book\" in tokens:\n",
    "        return \"Sure! Please provide the department and preferred date for booking.\"\n",
    "    elif \"doctor\" in tokens or \"available\" in tokens:\n",
    "        return \"Doctors are available from 9 AM to 5 PM, Monday to Saturday.\"\n",
    "    elif any(dept in tokens for dept in [\"cardiology\", \"dermatology\", \"orthopedic\", \"neurology\"]):\n",
    "        return \"Yes, we have specialists available in that department. Want to book an appointment?\"\n",
    "    elif \"emergency\" in tokens:\n",
    "        return \"Our emergency services are open 24/7. Please visit the emergency wing or call 108.\"\n",
    "    elif \"visiting\" in tokens or \"hours\" in tokens:\n",
    "        return \"Visiting hours are from 4 PM to 7 PM daily. Only 2 visitors per patient.\"\n",
    "    elif \"billing\" in tokens or \"insurance\" in tokens or \"payment\" in tokens:\n",
    "        return \"We accept most insurance providers. Please visit the billing desk for more info.\"\n",
    "    elif \"test\" in tokens or \"report\" in tokens:\n",
    "        return \"Lab reports are available within 24 hours. Check with the lab desk.\"\n",
    "    elif \"help\" in tokens or \"support\" in tokens:\n",
    "        return \"For help, call our helpline at 123-456-7890 or visit the help desk.\"\n",
    "    elif \"bye\" in tokens or \"exit\" in tokens:\n",
    "        return \"Goodbye! Stay healthy.\"\n",
    "    else:\n",
    "        return \"Sorry, I didn’t understand that. Could you rephrase it?\""
   ]
  },
  {
   "cell_type": "code",
   "execution_count": null,
   "id": "b619763f-e7f6-46bb-b15d-d229b56cfc32",
   "metadata": {},
   "outputs": [],
   "source": [
    "# Create the Gradio interface\n",
    "interface = gr.Interface(\n",
    "    fn=chatbot_response,\n",
    "    inputs=\"text\",\n",
    "    outputs=\"text\",\n",
    "    title=\"🏥 MedBot - Hospital Assistant\"\n",
    ")\n",
    "\n",
    "# Launch the interface\n",
    "interface.launch(share=True, debug=True)"
   ]
  },
  {
   "cell_type": "code",
   "execution_count": null,
   "id": "97667fda-00e3-4696-8c29-31c8081276a2",
   "metadata": {},
   "outputs": [],
   "source": []
  }
 ],
 "metadata": {
  "kernelspec": {
   "display_name": "Python [conda env:base] *",
   "language": "python",
   "name": "conda-base-py"
  },
  "language_info": {
   "codemirror_mode": {
    "name": "ipython",
    "version": 3
   },
   "file_extension": ".py",
   "mimetype": "text/x-python",
   "name": "python",
   "nbconvert_exporter": "python",
   "pygments_lexer": "ipython3",
   "version": "3.12.7"
  }
 },
 "nbformat": 4,
 "nbformat_minor": 5
}
